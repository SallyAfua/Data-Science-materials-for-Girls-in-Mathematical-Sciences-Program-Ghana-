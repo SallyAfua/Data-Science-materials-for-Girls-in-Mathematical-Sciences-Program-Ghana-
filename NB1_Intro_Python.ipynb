{
 "cells": [
  {
   "cell_type": "markdown",
   "id": "3ca66bd8",
   "metadata": {
    "provenance": [
     {
      "end_time": "Unknown",
      "execution_time": "Unknown",
      "outputs": [],
      "source": "",
      "start_time": "Unknown"
     }
    ]
   },
   "source": [
    "\n",
    "\n",
    "# **Goals for today**\n",
    "\n",
    "- Learn how to use Python as a simple calculator. </br> [Here](#id2)\n",
    "- Learn how to navigate Jupyter notebooks.</br>[Here](#id1)\n",
    "---\n",
    "\n"
   ]
  },
  {
   "cell_type": "markdown",
   "id": "9736ac80",
   "metadata": {
    "provenance": [
     {
      "last_modified": "2022-11-07T11:37:03.404Z",
      "source": "A liitle teaser here:\n1. Why girls do not code: https://www.youtube.com/watch?v=LVwOWQQ4pCw\n2. Why girls should code: https://www.youtube.com/watch?v=Fl___FUOqwI\n"
     }
    ]
   },
   "source": [
    "A liitle teaser here:\n",
    "1. Why girls do not code: https://www.youtube.com/watch?v=LVwOWQQ4pCw\n",
    "2. Why girls should code: https://www.youtube.com/watch?v=Fl___FUOqwI\n",
    "\n"
   ]
  },
  {
   "cell_type": "markdown",
   "id": "2ef3ee81",
   "metadata": {
    "provenance": [
     {
      "last_modified": "2022-11-05T00:09:38.827Z",
      "source": "---\n\n## **Why Python?**\n\n* Python is easy to learn and use for beginners and novices.\n* Python is accessible and easy to learn.\n* Used extensibly in the field of Data Science.\n\n---\n\n## **Why data (analysis)?**\n\n* Data is generated every second by the click of a button.\n* Cell phones generate location data.\n* Cookies allows websites to track your web history and facilitate targeted advertisement.\n* ...on and on and on\n\n## **What should we do?**\n* Learn how to analyse data\n* Read more about data ethics\n* Be more curious to learn how to solve the problems around you with data\n* Learn data analysis to become more competitive today!\n\n## **How to do it?**\n\n* Learn how to code. Raspberry Pi Foundation in the UK provides free resources for learning how to code with Python. Visit their website: https://www.raspberrypi.org/ . It is free!!!\n\n\n\n---"
     }
    ]
   },
   "source": [
    "---\n",
    "\n",
    "## **Why Python?**\n",
    "\n",
    "* Python is easy to learn and use for beginners and novices.\n",
    "* Python is accessible and easy to learn.\n",
    "* Used extensibly in the field of Data Science.\n",
    "\n",
    "---\n",
    "\n",
    "## **Why data (analysis)?**\n",
    "\n",
    "* Data is generated every second by the click of a button.\n",
    "* Cell phones generate location data.\n",
    "* Cookies allow websites to track your web history and facilitate targeted advertisement.\n",
    "* ...on and on and on\n",
    "\n",
    "## **What should we do?**\n",
    "* Learn how to analyse data.\n",
    "* Read more about data ethics.\n",
    "* Be more curious to learn how to solve the problems around you with data.\n",
    "* Learn data analysis to become more competitive today!\n",
    "\n",
    "## **How to do it?**\n",
    "\n",
    "* Learn how to code. Raspberry Pi Foundation in the UK provides free resources for learning how to code with Python. Visit their website: https://www.raspberrypi.org/ . It is free!!!\n",
    "\n",
    "\n",
    "\n",
    "---\n"
   ]
  },
  {
   "cell_type": "markdown",
   "id": "9a731448",
   "metadata": {
    "provenance": [
     {
      "last_modified": "2022-11-05T00:09:38.827Z",
      "source": "## **(1) Introduction to Jupyter Notebooks**\n\nJupyter notebooks allows you to write text and execute codes all in a single notebook! \n\nResearchers are predicting that soon people will express their thoughts using computational notebooks.\n\nHence, you have to learn how it works.\n\nJupyter notebooks have two cells namely: text cells and code cells.\n"
     }
    ]
   },
   "source": [
    "## **(1) Introduction to Jupyter Notebooks**\n",
    "\n",
    "Jupyter notebooks allow you to write text and execute code cells all in a single notebook! \n",
    "\n",
    "Educators are predicting that soon people will express their thoughts using computational notebooks(I heard people talking about it at UC Berkeley)\n",
    "\n",
    "Hence, you have to learn how it works.\n",
    "\n",
    "Jupyter notebooks have two cells namely: text cells and code cells.\n"
   ]
  },
  {
   "cell_type": "markdown",
   "id": "5303931f",
   "metadata": {
    "provenance": [
     {
      "last_modified": "2022-11-05T00:09:38.827Z",
      "source": "<div class=\"alert alert-block alert-info\">\n<b>Tip:</b> The cell above is a text cell.</div> \n\n---"
     }
    ]
   },
   "source": [
    "<div class=\"alert alert-block alert-info\">\n",
    "<b>Tip:</b> The cell above is a text cell.</div> \n",
    "\n",
    "---"
   ]
  },
  {
   "cell_type": "code",
   "execution_count": 1,
   "id": "bf957991",
   "metadata": {
    "ExecutionTime": {
     "end_time": "2022-11-07T11:29:20.949076Z",
     "start_time": "2022-11-07T11:29:20.932869Z"
    },
    "provenance": [
     {
      "end_time": "2022-11-04T23:39:09.120Z",
      "execution_time": "52ms",
      "outputs": [
       {
        "data": {
         "text/plain": "'This is a code cell'"
        },
        "execution_count": 18,
        "metadata": {},
        "output_type": "execute_result"
       }
      ],
      "source": "'This is a code cell'",
      "start_time": "2022-11-04T23:39:09.068Z"
     },
     {
      "end_time": "2022-11-04T23:49:58.597Z",
      "execution_time": "14ms",
      "outputs": [
       {
        "name": "stdout",
        "output_type": "stream",
        "text": "Hello World\n"
       }
      ],
      "source": "print('Hello World')",
      "start_time": "2022-11-04T23:49:58.583Z"
     },
     {
      "end_time": "2022-11-07T11:08:05.597Z",
      "execution_time": "5ms",
      "outputs": [
       {
        "name": "stdout",
        "output_type": "stream",
        "text": "Hello World\n"
       }
      ],
      "source": "print('Hello World')",
      "start_time": "2022-11-07T11:08:05.592Z"
     },
     {
      "end_time": "2022-11-07T11:29:20.949Z",
      "execution_time": "17ms",
      "outputs": [
       {
        "name": "stdout",
        "output_type": "stream",
        "text": "Hello World\n"
       }
      ],
      "source": "print('Hello World')",
      "start_time": "2022-11-07T11:29:20.932Z"
     }
    ]
   },
   "outputs": [
    {
     "name": "stdout",
     "output_type": "stream",
     "text": [
      "Hello World\n"
     ]
    }
   ],
   "source": [
    "print('Hello World')"
   ]
  },
  {
   "cell_type": "markdown",
   "id": "c9a95406",
   "metadata": {
    "provenance": [
     {
      "last_modified": "2022-11-05T00:09:38.827Z",
      "source": "#### What happens when we run a code cell?\n\nOur codes are translated into machine codes (binary numbers), executed and the output is returned."
     }
    ]
   },
   "source": [
    "#### What happens when we run a code cell?\n",
    "\n",
    "Our codes are translated into machine codes (binary numbers), executed and the output is returned."
   ]
  },
  {
   "cell_type": "markdown",
   "id": "d4cc5dc6",
   "metadata": {
    "provenance": [
     {
      "last_modified": "2022-11-05T00:09:38.827Z",
      "source": "<a id=\"id2\"></a>"
     }
    ]
   },
   "source": [
    "<a id=\"id2\"></a>"
   ]
  },
  {
   "cell_type": "markdown",
   "id": "fb6470a4",
   "metadata": {
    "provenance": [
     {
      "last_modified": "2022-11-05T00:09:38.827Z",
      "source": "## (2) Using Python as a calculator\n\n"
     }
    ]
   },
   "source": [
    "## (2) Using Python as a calculator\n",
    "\n"
   ]
  },
  {
   "cell_type": "code",
   "execution_count": 2,
   "id": "95dc938e",
   "metadata": {
    "ExecutionTime": {
     "end_time": "2022-11-07T11:29:20.963210Z",
     "start_time": "2022-11-07T11:29:20.951078Z"
    },
    "provenance": [
     {
      "end_time": "2022-11-04T23:02:38.610Z",
      "execution_time": "19ms",
      "outputs": [
       {
        "ename": "SyntaxError",
        "evalue": "invalid syntax (<ipython-input-2-b62d30f553d9>, line 1)",
        "output_type": "error",
        "traceback": [
         "\u001b[1;36m  File \u001b[1;32m\"<ipython-input-2-b62d30f553d9>\"\u001b[1;36m, line \u001b[1;32m1\u001b[0m\n\u001b[1;33m    But now enough of the introductory gibberish, let's get going and learn more about the stuff that the computer actually understands and we can use to make the computer \"do\" things for us.\u001b[0m\n\u001b[1;37m        ^\u001b[0m\n\u001b[1;31mSyntaxError\u001b[0m\u001b[1;31m:\u001b[0m invalid syntax\n"
        ]
       }
      ],
      "source": "But now enough of the introductory gibberish, let's get going and learn more about the stuff that the computer actually understands and we can use to make the computer \"do\" things for us. \n\n<div class=\"alert alert-block alert-info\">\n<b>Tip:</b> Depending on which option you use (Anaconda, Academic Cloud or Google Colaboratory), the procedure for creating a new code cell is always slightly different. Usually there is a `+Code` button somewhere that you can click. Feel free to ask your instructor, tutors or fellow students if you can't find it.  </div>\n\n\n<div class=\"alert alert-block alert-success\">\n<b>Action:</b> Just in case, we have already created a cell with two lines of code. Run it and then let's see what happened afterwards.\n</div>",
      "start_time": "2022-11-04T23:02:38.591Z"
     },
     {
      "end_time": "2022-11-04T23:52:33.765Z",
      "execution_time": "14ms",
      "outputs": [
       {
        "name": "stdout",
        "output_type": "stream",
        "text": "6\n"
       }
      ],
      "source": "# Addition\nfirst_number = 2\nsecond_number = 4\nprint(first_number + second_number)",
      "start_time": "2022-11-04T23:52:33.751Z"
     },
     {
      "end_time": "2022-11-07T11:08:05.608Z",
      "execution_time": "8ms",
      "outputs": [
       {
        "name": "stdout",
        "output_type": "stream",
        "text": "6\n"
       }
      ],
      "source": "# Addition\nprint(2 + 4)",
      "start_time": "2022-11-07T11:08:05.600Z"
     },
     {
      "end_time": "2022-11-07T11:29:20.963Z",
      "execution_time": "12ms",
      "outputs": [
       {
        "name": "stdout",
        "output_type": "stream",
        "text": "6\n"
       }
      ],
      "source": "# Addition\nprint(2 + 4)",
      "start_time": "2022-11-07T11:29:20.951Z"
     }
    ]
   },
   "outputs": [
    {
     "name": "stdout",
     "output_type": "stream",
     "text": [
      "6\n"
     ]
    }
   ],
   "source": [
    "# Addition\n",
    "print(2 + 4)"
   ]
  },
  {
   "cell_type": "code",
   "execution_count": 3,
   "id": "33c7a5eb",
   "metadata": {
    "ExecutionTime": {
     "end_time": "2022-11-07T11:29:20.981334Z",
     "start_time": "2022-11-07T11:29:20.965231Z"
    },
    "provenance": [
     {
      "end_time": "2022-11-04T23:03:12.564Z",
      "execution_time": "16ms",
      "outputs": [
       {
        "name": "stdout",
        "output_type": "stream",
        "text": "Hello World\n"
       }
      ],
      "source": "# This is an executable code cell. Run this!\nprint('Hello World')",
      "start_time": "2022-11-04T23:03:12.548Z"
     },
     {
      "end_time": "2022-11-04T23:52:27.768Z",
      "execution_time": "622ms",
      "outputs": [
       {
        "ename": "NameError",
        "evalue": "name 'second_number' is not defined",
        "output_type": "error",
        "traceback": [
         "\u001b[1;31m---------------------------------------------------------------------------\u001b[0m",
         "\u001b[1;31mNameError\u001b[0m                                 Traceback (most recent call last)",
         "\u001b[1;32m<ipython-input-20-43a375d59246>\u001b[0m in \u001b[0;36m<module>\u001b[1;34m\u001b[0m\n\u001b[0;32m      1\u001b[0m \u001b[1;31m# Subtraction\u001b[0m\u001b[1;33m\u001b[0m\u001b[1;33m\u001b[0m\u001b[1;33m\u001b[0m\u001b[0m\n\u001b[1;32m----> 2\u001b[1;33m \u001b[0mprint\u001b[0m\u001b[1;33m(\u001b[0m\u001b[0msecond_number\u001b[0m \u001b[1;33m-\u001b[0m \u001b[0mfirst_number\u001b[0m\u001b[1;33m)\u001b[0m\u001b[1;33m\u001b[0m\u001b[1;33m\u001b[0m\u001b[0m\n\u001b[0m",
         "\u001b[1;31mNameError\u001b[0m: name 'second_number' is not defined"
        ]
       }
      ],
      "source": "# Subtraction\nprint(second_number - first_number)",
      "start_time": "2022-11-04T23:52:27.146Z"
     },
     {
      "end_time": "2022-11-04T23:52:34.474Z",
      "execution_time": "14ms",
      "outputs": [
       {
        "name": "stdout",
        "output_type": "stream",
        "text": "2\n"
       }
      ],
      "source": "# Subtraction\nprint(second_number - first_number)",
      "start_time": "2022-11-04T23:52:34.460Z"
     },
     {
      "end_time": "2022-11-07T11:08:05.617Z",
      "execution_time": "6ms",
      "outputs": [
       {
        "name": "stdout",
        "output_type": "stream",
        "text": "2\n"
       }
      ],
      "source": "# Subtraction\nprint(4 - 2)",
      "start_time": "2022-11-07T11:08:05.611Z"
     },
     {
      "end_time": "2022-11-07T11:29:20.981Z",
      "execution_time": "16ms",
      "outputs": [
       {
        "name": "stdout",
        "output_type": "stream",
        "text": "2\n"
       }
      ],
      "source": "# Subtraction\nprint(4 - 2)",
      "start_time": "2022-11-07T11:29:20.965Z"
     }
    ]
   },
   "outputs": [
    {
     "name": "stdout",
     "output_type": "stream",
     "text": [
      "2\n"
     ]
    }
   ],
   "source": [
    "# Subtraction\n",
    "print(4 - 2)"
   ]
  },
  {
   "cell_type": "code",
   "execution_count": 4,
   "id": "45943de6",
   "metadata": {
    "ExecutionTime": {
     "end_time": "2022-11-07T11:29:20.995811Z",
     "start_time": "2022-11-07T11:29:20.984369Z"
    },
    "provenance": [
     {
      "end_time": "Unknown",
      "execution_time": "Unknown",
      "outputs": [],
      "source": "# Multiplication\nprint(first_number * second_number)",
      "start_time": "Unknown"
     },
     {
      "end_time": "2022-11-07T11:08:05.632Z",
      "execution_time": "10ms",
      "outputs": [
       {
        "name": "stdout",
        "output_type": "stream",
        "text": "8\n"
       }
      ],
      "source": "# Multiplication\nprint(4 * 2)",
      "start_time": "2022-11-07T11:08:05.622Z"
     },
     {
      "end_time": "2022-11-07T11:29:20.995Z",
      "execution_time": "11ms",
      "outputs": [
       {
        "name": "stdout",
        "output_type": "stream",
        "text": "8\n"
       }
      ],
      "source": "# Multiplication\nprint(4 * 2)",
      "start_time": "2022-11-07T11:29:20.984Z"
     }
    ]
   },
   "outputs": [
    {
     "name": "stdout",
     "output_type": "stream",
     "text": [
      "8\n"
     ]
    }
   ],
   "source": [
    "# Multiplication\n",
    "print(4 * 2)"
   ]
  },
  {
   "cell_type": "code",
   "execution_count": 5,
   "id": "77678be5",
   "metadata": {
    "ExecutionTime": {
     "end_time": "2022-11-07T11:29:21.008457Z",
     "start_time": "2022-11-07T11:29:20.999038Z"
    },
    "provenance": [
     {
      "end_time": "2022-11-04T23:57:50.039Z",
      "execution_time": "21ms",
      "outputs": [
       {
        "name": "stdout",
        "output_type": "stream",
        "text": "2.0\n"
       }
      ],
      "source": "# Division\nprint(second_number / first_number)",
      "start_time": "2022-11-04T23:57:50.018Z"
     },
     {
      "end_time": "2022-11-07T11:08:05.642Z",
      "execution_time": "6ms",
      "outputs": [
       {
        "name": "stdout",
        "output_type": "stream",
        "text": "2.0\n"
       }
      ],
      "source": "# Division\nprint(4 / 2)",
      "start_time": "2022-11-07T11:08:05.636Z"
     },
     {
      "end_time": "2022-11-07T11:29:21.008Z",
      "execution_time": "9ms",
      "outputs": [
       {
        "name": "stdout",
        "output_type": "stream",
        "text": "2.0\n"
       }
      ],
      "source": "# Division\nprint(4 / 2)",
      "start_time": "2022-11-07T11:29:20.999Z"
     }
    ]
   },
   "outputs": [
    {
     "name": "stdout",
     "output_type": "stream",
     "text": [
      "2.0\n"
     ]
    }
   ],
   "source": [
    "# Division\n",
    "print(4 / 2)"
   ]
  },
  {
   "cell_type": "code",
   "execution_count": 6,
   "id": "eefc98f4",
   "metadata": {
    "ExecutionTime": {
     "end_time": "2022-11-07T11:29:21.022053Z",
     "start_time": "2022-11-07T11:29:21.012419Z"
    },
    "provenance": [
     {
      "end_time": "Unknown",
      "execution_time": "Unknown",
      "outputs": [],
      "source": "# Floor division\nprint(4 // 2)",
      "start_time": "Unknown"
     },
     {
      "end_time": "2022-11-07T11:08:05.650Z",
      "execution_time": "4ms",
      "outputs": [
       {
        "name": "stdout",
        "output_type": "stream",
        "text": "2\n"
       }
      ],
      "source": "# Floor division\nprint(4 // 2)",
      "start_time": "2022-11-07T11:08:05.646Z"
     },
     {
      "end_time": "2022-11-07T11:29:21.022Z",
      "execution_time": "10ms",
      "outputs": [
       {
        "name": "stdout",
        "output_type": "stream",
        "text": "2\n"
       }
      ],
      "source": "# Floor division\nprint(4 // 2)",
      "start_time": "2022-11-07T11:29:21.012Z"
     }
    ]
   },
   "outputs": [
    {
     "name": "stdout",
     "output_type": "stream",
     "text": [
      "2\n"
     ]
    }
   ],
   "source": [
    "# Floor division\n",
    "print(4 // 2)"
   ]
  },
  {
   "cell_type": "markdown",
   "id": "587e6e08",
   "metadata": {
    "provenance": [
     {
      "last_modified": "2022-11-05T00:09:38.827Z",
      "source": "### (2.1) Commenting code\n\nPlace the symbol (`#`) before your text in a code cell to comment on your codes. Commenting codes helps you remember the purpose of you writing the codes whenever you pick your notebook."
     }
    ]
   },
   "source": [
    "### (2.1) Commenting code\n",
    "\n",
    "Place the symbol (`#`) before your text in a code cell to comment on your codes. Commenting codes helps you remember the codes whenever you pick your notebook."
   ]
  },
  {
   "cell_type": "code",
   "execution_count": 7,
   "id": "ad0c48d4",
   "metadata": {
    "ExecutionTime": {
     "end_time": "2022-11-07T11:29:21.038070Z",
     "start_time": "2022-11-07T11:29:21.026362Z"
    },
    "provenance": [
     {
      "end_time": "2022-11-04T23:07:09.226Z",
      "execution_time": "20ms",
      "outputs": [],
      "source": "# This is a one-line comment!",
      "start_time": "2022-11-04T23:07:09.206Z"
     },
     {
      "end_time": "2022-11-07T11:08:05.659Z",
      "execution_time": "4ms",
      "outputs": [],
      "source": "# This is a one-line comment!",
      "start_time": "2022-11-07T11:08:05.655Z"
     },
     {
      "end_time": "2022-11-07T11:29:21.038Z",
      "execution_time": "12ms",
      "outputs": [],
      "source": "# This is a one-line comment!",
      "start_time": "2022-11-07T11:29:21.026Z"
     }
    ]
   },
   "outputs": [],
   "source": [
    "# This is a one-line comment!"
   ]
  },
  {
   "cell_type": "markdown",
   "id": "7d44f5c2",
   "metadata": {
    "provenance": [
     {
      "last_modified": "2022-11-05T00:09:38.827Z",
      "source": "To write a multiline comment, enclose your text in three pairs of quotation marks in the code cell. "
     }
    ]
   },
   "source": [
    "To write a multiline comment, enclose your text in three pairs of quotation marks in the code cell. "
   ]
  },
  {
   "cell_type": "code",
   "execution_count": 8,
   "id": "1a6c2562",
   "metadata": {
    "ExecutionTime": {
     "end_time": "2022-11-07T11:29:21.063968Z",
     "start_time": "2022-11-07T11:29:21.044752Z"
    },
    "provenance": [
     {
      "end_time": "2022-11-04T23:07:50.073Z",
      "execution_time": "8ms",
      "outputs": [
       {
        "name": "stdout",
        "output_type": "stream",
        "text": "Imagine a larger executable code portion here\n"
       }
      ],
      "source": "''' \nThis is a multiline comment. \nThis can be useful, for example, if you are writing a larger program \nand want to record some introductory information or assumptions, \nor to \"exclude\" several lines of code so that they are not executed. \n'''\n\nprint('Imagine a larger executable code portion here')",
      "start_time": "2022-11-04T23:07:50.065Z"
     },
     {
      "end_time": "2022-11-07T11:08:05.667Z",
      "execution_time": "6ms",
      "outputs": [
       {
        "name": "stdout",
        "output_type": "stream",
        "text": "Imagine a larger executable code portion here\n"
       }
      ],
      "source": "''' \nThis is a multiline comment. \nThis can be useful, for example, if you are writing a larger program \nand want to record some introductory information or assumptions, \nor to \"exclude\" several lines of code so that they are not executed. \n'''\n\nprint('Imagine a larger executable code portion here')",
      "start_time": "2022-11-07T11:08:05.661Z"
     },
     {
      "end_time": "2022-11-07T11:29:21.063Z",
      "execution_time": "19ms",
      "outputs": [
       {
        "name": "stdout",
        "output_type": "stream",
        "text": "Imagine a larger executable code portion here\n"
       }
      ],
      "source": "''' \nThis is a multiline comment. \nThis can be useful, for example, if you are writing a larger program \nand want to record some introductory information or assumptions, \nor to \"exclude\" several lines of code so that they are not executed. \n'''\n\nprint('Imagine a larger executable code portion here')",
      "start_time": "2022-11-07T11:29:21.044Z"
     }
    ]
   },
   "outputs": [
    {
     "name": "stdout",
     "output_type": "stream",
     "text": [
      "Imagine a larger executable code portion here\n"
     ]
    }
   ],
   "source": [
    "''' \n",
    "This is a multiline comment. \n",
    "This can be useful, for example, if you are writing a larger program \n",
    "and want to record some introductory information or assumptions, \n",
    "or to \"exclude\" several lines of code so that they are not executed. \n",
    "'''\n",
    "\n",
    "print('Imagine a larger executable code portion here')"
   ]
  },
  {
   "cell_type": "markdown",
   "id": "52ccf8ca",
   "metadata": {
    "provenance": [
     {
      "last_modified": "2022-11-05T00:09:38.827Z",
      "source": "### (2.3) Order of code execution\n\nThe Python interpreter will always start processing the program from the top. Moreover, the codes are read from left to right. Always remember this useful information."
     }
    ]
   },
   "source": [
    "### (2.2) Order of code execution\n",
    "\n",
    "The Python interpreter will always start processing the program from the top. Moreover, the codes are read from left to right. Always remember this useful information."
   ]
  },
  {
   "cell_type": "code",
   "execution_count": 9,
   "id": "5c7f114f",
   "metadata": {
    "ExecutionTime": {
     "end_time": "2022-11-07T11:29:21.076526Z",
     "start_time": "2022-11-07T11:29:21.065967Z"
    },
    "provenance": [
     {
      "end_time": "2022-11-04T23:09:10.661Z",
      "execution_time": "17ms",
      "outputs": [
       {
        "name": "stdout",
        "output_type": "stream",
        "text": "Hello World\nHello Friends\nWe love coding\n"
       }
      ],
      "source": "print('Hello World') # This code will run first\nprint('Hello Friends') # This will be second\nprint('We love coding') # This will be last",
      "start_time": "2022-11-04T23:09:10.644Z"
     },
     {
      "end_time": "2022-11-05T00:04:34.293Z",
      "execution_time": "8ms",
      "outputs": [
       {
        "name": "stdout",
        "output_type": "stream",
        "text": "Hello World\nHello Friends\nWe love coding\n"
       }
      ],
      "source": "print('Hello World') # This code will run first\nprint('Hello Friends') # This will be second\nprint('We love coding') # This will be last",
      "start_time": "2022-11-05T00:04:34.285Z"
     },
     {
      "end_time": "2022-11-07T11:08:05.678Z",
      "execution_time": "9ms",
      "outputs": [
       {
        "name": "stdout",
        "output_type": "stream",
        "text": "Hello World\nHello Friends\nWe love coding\n"
       }
      ],
      "source": "print('Hello World') # This code will run first\nprint('Hello Friends') # This will be second\nprint('We love coding') # This will be last",
      "start_time": "2022-11-07T11:08:05.669Z"
     },
     {
      "end_time": "2022-11-07T11:29:21.076Z",
      "execution_time": "11ms",
      "outputs": [
       {
        "name": "stdout",
        "output_type": "stream",
        "text": "Hello World\nHello Friends\nWe love coding\n"
       }
      ],
      "source": "print('Hello World') # This code will run first\nprint('Hello Friends') # This will be second\nprint('We love coding') # This will be last",
      "start_time": "2022-11-07T11:29:21.065Z"
     }
    ]
   },
   "outputs": [
    {
     "name": "stdout",
     "output_type": "stream",
     "text": [
      "Hello World\n",
      "Hello Friends\n",
      "We love coding\n"
     ]
    }
   ],
   "source": [
    "print('Hello World') # This code will run first\n",
    "print('Hello Friends') # This will be second\n",
    "print('We love coding') # This will be last"
   ]
  },
  {
   "cell_type": "markdown",
   "id": "0f2ff454",
   "metadata": {
    "provenance": [
     {
      "last_modified": "2022-11-05T00:09:38.827Z",
      "source": "## (3) Review Time\n\n\n<div class=\"alert alert-block alert-success\">\n<b>Action:</b> The code below was written to display the output `5`. There are TWO errors in the code. Let's identify and fix them. \n</div>\n\n\n\n"
     }
    ]
   },
   "source": [
    "## (3) Reflection time\n",
    "\n",
    "\n",
    "<div class=\"alert alert-block alert-success\">\n",
    "<b>Reflect on this:</b> Why do you think young girls should learn how to code? Give a brief presentation in class about your thoughts.\n",
    "</div>\n",
    "\n",
    "\n",
    "\n"
   ]
  },
  {
   "cell_type": "markdown",
   "id": "d6f9ece3",
   "metadata": {},
   "source": [
    "## (4) Further reading\n",
    "* Learning how to learn to program: https://teachinglondoncomputing.org/learning-to-learn-to-program/"
   ]
  }
 ],
 "metadata": {
  "kernelspec": {
   "display_name": "Python 3",
   "language": "python",
   "name": "python3"
  },
  "language_info": {
   "codemirror_mode": {
    "name": "ipython",
    "version": 3
   },
   "file_extension": ".py",
   "mimetype": "text/x-python",
   "name": "python",
   "nbconvert_exporter": "python",
   "pygments_lexer": "ipython3",
   "version": "3.8.8"
  }
 },
 "nbformat": 4,
 "nbformat_minor": 5
}
